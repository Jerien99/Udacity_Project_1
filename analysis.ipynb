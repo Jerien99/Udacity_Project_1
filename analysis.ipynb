{
 "cells": [
  {
   "cell_type": "markdown",
   "metadata": {
    "application/vnd.databricks.v1+cell": {
     "cellMetadata": {},
     "inputWidgets": {},
     "nuid": "4343f308-efd8-495e-bb94-1764b07fdf2b",
     "showTitle": false,
     "tableResultSettingsMap": {},
     "title": ""
    }
   },
   "source": [
    "## Udacity Project 1: Political Instability Prediction in Africa and the Middle East with a Random Forest Model"
   ]
  },
  {
   "cell_type": "markdown",
   "metadata": {
    "application/vnd.databricks.v1+cell": {
     "cellMetadata": {},
     "inputWidgets": {},
     "nuid": "5052bc33-e100-4c7a-82b5-42898159f762",
     "showTitle": false,
     "tableResultSettingsMap": {},
     "title": ""
    }
   },
   "source": [
    "#### Data and Package Loading"
   ]
  },
  {
   "cell_type": "code",
   "execution_count": 0,
   "metadata": {
    "application/vnd.databricks.v1+cell": {
     "cellMetadata": {
      "byteLimit": 2048000,
      "rowLimit": 10000
     },
     "inputWidgets": {},
     "nuid": "a7f7f54d-e809-459b-bbe7-168a7a4d12a1",
     "showTitle": false,
     "tableResultSettingsMap": {},
     "title": ""
    }
   },
   "outputs": [],
   "source": [
    "# Install the necessary packages\n",
    "%pip install shap"
   ]
  },
  {
   "cell_type": "code",
   "execution_count": 0,
   "metadata": {
    "application/vnd.databricks.v1+cell": {
     "cellMetadata": {
      "byteLimit": 2048000,
      "rowLimit": 10000
     },
     "inputWidgets": {},
     "nuid": "812b3b45-14a0-47d3-8c93-95eb42aaecb5",
     "showTitle": false,
     "tableResultSettingsMap": {},
     "title": ""
    }
   },
   "outputs": [],
   "source": [
    "# Install NumPy version 1.24.0 for compatibility with the SHAP-package\n",
    "%pip install numpy==1.24.0"
   ]
  },
  {
   "cell_type": "code",
   "execution_count": 0,
   "metadata": {
    "application/vnd.databricks.v1+cell": {
     "cellMetadata": {
      "byteLimit": 2048000,
      "rowLimit": 10000
     },
     "inputWidgets": {},
     "nuid": "5c935601-77ca-48be-a597-56548f5f3bcc",
     "showTitle": false,
     "tableResultSettingsMap": {},
     "title": ""
    }
   },
   "outputs": [],
   "source": [
    "# Proceed only when the NumPy version given below is indeed 1.24.0\n",
    "import numpy\n",
    "print(numpy.__version__)"
   ]
  },
  {
   "cell_type": "code",
   "execution_count": 0,
   "metadata": {
    "application/vnd.databricks.v1+cell": {
     "cellMetadata": {
      "byteLimit": 2048000,
      "rowLimit": 10000
     },
     "inputWidgets": {},
     "nuid": "c1f2e439-f090-4ad6-91bf-0dff25290e05",
     "showTitle": false,
     "tableResultSettingsMap": {},
     "title": ""
    }
   },
   "outputs": [],
   "source": [
    "# Import the necessary packages and functions\n",
    "import pandas as pd\n",
    "import numpy as np\n",
    "import matplotlib.pyplot as plt\n",
    "import seaborn as sns\n",
    "import sklearn\n",
    "import shap\n",
    "from sklearn.ensemble import RandomForestClassifier\n",
    "from sklearn.metrics import accuracy_score, confusion_matrix, precision_score, recall_score, ConfusionMatrixDisplay, classification_report, f1_score\n",
    "from sklearn.model_selection import RandomizedSearchCV, train_test_split"
   ]
  },
  {
   "cell_type": "code",
   "execution_count": 0,
   "metadata": {
    "application/vnd.databricks.v1+cell": {
     "cellMetadata": {
      "byteLimit": 2048000,
      "rowLimit": 10000
     },
     "inputWidgets": {},
     "nuid": "6544cb70-c583-49e5-a53f-14ec1ede0f7b",
     "showTitle": false,
     "tableResultSettingsMap": {},
     "title": ""
    }
   },
   "outputs": [],
   "source": [
    "# Read in the data from a csv downloaded from the World Bank database\n",
    "df = pd.read_csv(\n",
    "    '/Workspace/Users/j60849@eon.com/Udacity_Project_1/Dataset_World_Bank.csv',\n",
    "    sep='\",\"',\n",
    "    skipinitialspace=True,\n",
    "    engine='python',\n",
    "    quotechar='\"'\n",
    ")\n",
    "\n",
    "# Print the data to evaluate pre-processing steps\n",
    "df.head()"
   ]
  },
  {
   "cell_type": "markdown",
   "metadata": {
    "application/vnd.databricks.v1+cell": {
     "cellMetadata": {},
     "inputWidgets": {},
     "nuid": "5bee0e64-dfbb-4fa4-a102-7fb9ded44472",
     "showTitle": false,
     "tableResultSettingsMap": {},
     "title": ""
    }
   },
   "source": [
    "#### Data pre-processing"
   ]
  },
  {
   "cell_type": "code",
   "execution_count": 0,
   "metadata": {
    "application/vnd.databricks.v1+cell": {
     "cellMetadata": {
      "byteLimit": 2048000,
      "rowLimit": 10000
     },
     "inputWidgets": {},
     "nuid": "16639c05-25a2-46f5-ba26-9381b863c192",
     "showTitle": false,
     "tableResultSettingsMap": {},
     "title": ""
    }
   },
   "outputs": [],
   "source": [
    "# Strip the column headers of their double quotes\n",
    "df.columns = df.columns.str.strip('\"')"
   ]
  },
  {
   "cell_type": "code",
   "execution_count": 0,
   "metadata": {
    "application/vnd.databricks.v1+cell": {
     "cellMetadata": {
      "byteLimit": 2048000,
      "rowLimit": 10000
     },
     "inputWidgets": {},
     "nuid": "6dc45ce4-e5c7-4b65-8802-c077292710cc",
     "showTitle": false,
     "tableResultSettingsMap": {},
     "title": ""
    }
   },
   "outputs": [],
   "source": [
    "# Remove double quotes from the data\n",
    "def quote_remover(df):\n",
    "    \"This function removes double quotes from all entries of a pandas dataframe\"\n",
    "    for col in df.columns:\n",
    "        df[col] = df[col].str.replace('\"', '')\n",
    "    return df\n",
    "\n",
    "df = quote_remover(df)"
   ]
  },
  {
   "cell_type": "code",
   "execution_count": 0,
   "metadata": {
    "application/vnd.databricks.v1+cell": {
     "cellMetadata": {
      "byteLimit": 2048000,
      "rowLimit": 10000
     },
     "inputWidgets": {},
     "nuid": "1073b647-90a4-4540-8a36-05ada222a33a",
     "showTitle": false,
     "tableResultSettingsMap": {},
     "title": ""
    }
   },
   "outputs": [],
   "source": [
    "# Single out the country name from the country code in the first column\n",
    "df['Country_Name'] = df.iloc[:, 0].str.split(',').str[0]"
   ]
  },
  {
   "cell_type": "code",
   "execution_count": 0,
   "metadata": {
    "application/vnd.databricks.v1+cell": {
     "cellMetadata": {
      "byteLimit": 2048000,
      "rowLimit": 10000
     },
     "inputWidgets": {},
     "nuid": "7df5b3af-ff2e-4b71-b20a-9bc64eb0e393",
     "showTitle": false,
     "tableResultSettingsMap": {},
     "title": ""
    }
   },
   "outputs": [],
   "source": [
    "# Select a subset of the data with which the modelling can take place\n",
    "df_model = df[['Country_Name', 'Series Name', 'Time', 'Value']]"
   ]
  },
  {
   "cell_type": "code",
   "execution_count": 0,
   "metadata": {
    "application/vnd.databricks.v1+cell": {
     "cellMetadata": {
      "byteLimit": 2048000,
      "rowLimit": 10000
     },
     "inputWidgets": {},
     "nuid": "69d25a15-684c-40ab-b960-9c84db2528a1",
     "showTitle": false,
     "tableResultSettingsMap": {},
     "title": ""
    }
   },
   "outputs": [],
   "source": [
    "# Pivot the data so that each unique Series Name becomes a separate column\n",
    "df_model = df_model.drop_duplicates(subset=['Country_Name', 'Time', 'Series Name'])\n",
    "df_pivot = df_model.pivot(index=['Country_Name', 'Time'], columns='Series Name', values='Value').reset_index()"
   ]
  },
  {
   "cell_type": "code",
   "execution_count": 0,
   "metadata": {
    "application/vnd.databricks.v1+cell": {
     "cellMetadata": {
      "byteLimit": 2048000,
      "rowLimit": 10000
     },
     "inputWidgets": {},
     "nuid": "6f3ba0a0-9485-4bc5-a374-d6b3068b487a",
     "showTitle": false,
     "tableResultSettingsMap": {},
     "title": ""
    }
   },
   "outputs": [],
   "source": [
    "# Change blank spaces into null values\n",
    "df_pivot = df_pivot.replace(r'^\\s*$', None, regex=True)"
   ]
  },
  {
   "cell_type": "code",
   "execution_count": 0,
   "metadata": {
    "application/vnd.databricks.v1+cell": {
     "cellMetadata": {
      "byteLimit": 2048000,
      "rowLimit": 10000
     },
     "inputWidgets": {},
     "nuid": "eb0fba46-b263-4682-9822-eeb7af332e17",
     "showTitle": false,
     "tableResultSettingsMap": {},
     "title": ""
    }
   },
   "outputs": [],
   "source": [
    "# Inspect the dataframe with .info() to see the number of missing values per column\n",
    "df_pivot.info()"
   ]
  },
  {
   "cell_type": "code",
   "execution_count": 0,
   "metadata": {
    "application/vnd.databricks.v1+cell": {
     "cellMetadata": {
      "byteLimit": 2048000,
      "rowLimit": 10000
     },
     "inputWidgets": {},
     "nuid": "e1cc533c-ef6e-4a94-ad16-513faa49388b",
     "showTitle": false,
     "tableResultSettingsMap": {},
     "title": ""
    }
   },
   "outputs": [],
   "source": [
    "# Change datatype of all numerical columns to float\n",
    "for column in df_pivot.columns:\n",
    "    if df_pivot[column].dtype == 'object' and column != 'Country_Name' and column != 'Time':\n",
    "        df_pivot[column] = df_pivot[column].astype('float')\n",
    "df_pivot.info()"
   ]
  },
  {
   "cell_type": "code",
   "execution_count": 0,
   "metadata": {
    "application/vnd.databricks.v1+cell": {
     "cellMetadata": {
      "byteLimit": 2048000,
      "rowLimit": 10000
     },
     "inputWidgets": {},
     "nuid": "55c9382e-835d-4379-8fd7-b48f8cc7f6f5",
     "showTitle": false,
     "tableResultSettingsMap": {},
     "title": ""
    }
   },
   "outputs": [],
   "source": [
    "# Drop the columns with too many few data points reported\n",
    "df_pivot.drop(['Arms exports (SIPRI trend indicator values)', 'Arms imports (SIPRI trend indicator values)', 'Central government debt, total (% of GDP)', 'International migrant stock (% of population)', 'School enrollment, secondary, male (% net)'], inplace=True, axis=1)"
   ]
  },
  {
   "cell_type": "code",
   "execution_count": 0,
   "metadata": {
    "application/vnd.databricks.v1+cell": {
     "cellMetadata": {
      "byteLimit": 2048000,
      "rowLimit": 10000
     },
     "inputWidgets": {},
     "nuid": "4865caa1-e65e-4d49-83d1-87d464e385b0",
     "showTitle": false,
     "tableResultSettingsMap": {},
     "title": ""
    }
   },
   "outputs": [],
   "source": [
    "# Drop the rows for 2024, since too much data from last year has not been processed well into the World Bank database yet\n",
    "df_pivot = df_pivot[df_pivot['Time'] != '2024']"
   ]
  },
  {
   "cell_type": "code",
   "execution_count": 0,
   "metadata": {
    "application/vnd.databricks.v1+cell": {
     "cellMetadata": {
      "byteLimit": 2048000,
      "rowLimit": 10000
     },
     "inputWidgets": {},
     "nuid": "286fb511-c2e3-411f-ad67-8a94ec9f1905",
     "showTitle": false,
     "tableResultSettingsMap": {},
     "title": ""
    }
   },
   "outputs": [],
   "source": [
    "# Count number of null values per country to see whether some countries have not enough data to be eligible for the model\n",
    "null_counts = df_pivot.groupby('Country_Name').apply(lambda x: x.isnull().sum().sum())\n",
    "null_counts_df = null_counts.to_frame(name='null_count').reset_index()\n",
    "display(null_counts_df)"
   ]
  },
  {
   "cell_type": "code",
   "execution_count": 0,
   "metadata": {
    "application/vnd.databricks.v1+cell": {
     "cellMetadata": {
      "byteLimit": 2048000,
      "rowLimit": 10000
     },
     "inputWidgets": {},
     "nuid": "b1843dde-9561-4822-b79e-d55ddd37b38d",
     "showTitle": false,
     "tableResultSettingsMap": {},
     "title": ""
    }
   },
   "outputs": [],
   "source": [
    "# Remove some small (island) nations from the dataframe that lack too much data\n",
    "df_pivot = df_pivot[\n",
    "    (df_pivot['Country_Name'] != 'Comoros') &\n",
    "    (df_pivot['Country_Name'] != 'Eritrea') &\n",
    "    (df_pivot['Country_Name'] != 'Sao Tome and Principe') &\n",
    "    (df_pivot['Country_Name'] != 'Seychelles') &\n",
    "    (df_pivot['Country_Name'] != 'Somalia') &\n",
    "    (df_pivot['Country_Name'] != 'South Sudan') &\n",
    "    (df_pivot['Country_Name'] != 'Syrian Arab Republic') &\n",
    "    (df_pivot['Country_Name'] != 'West Bank and Gaza')\n",
    "]"
   ]
  },
  {
   "cell_type": "code",
   "execution_count": 0,
   "metadata": {
    "application/vnd.databricks.v1+cell": {
     "cellMetadata": {
      "byteLimit": 2048000,
      "rowLimit": 10000
     },
     "inputWidgets": {},
     "nuid": "664ece62-27df-43ba-b520-4080834ac935",
     "showTitle": false,
     "tableResultSettingsMap": {},
     "title": ""
    }
   },
   "outputs": [],
   "source": [
    "# Construct conflict indicator out of Political Stability estimate (conflict when the estimate is below -1, since then, the perception of political stability and absence of violence is at least one standard deviation away from the global mean)\n",
    "df_pivot['IND_CONFLICT'] = np.where((df_pivot['Political Stability and Absence of Violence/Terrorism: Estimate'] < -1), 1, 0)\n",
    "display(df_pivot)"
   ]
  },
  {
   "cell_type": "markdown",
   "metadata": {
    "application/vnd.databricks.v1+cell": {
     "cellMetadata": {
      "byteLimit": 2048000,
      "rowLimit": 10000
     },
     "inputWidgets": {},
     "nuid": "34769191-48c5-4a69-88ca-aa521d36f40b",
     "showTitle": false,
     "tableResultSettingsMap": {},
     "title": ""
    }
   },
   "source": [
    "#### Data Exploration"
   ]
  },
  {
   "cell_type": "code",
   "execution_count": 0,
   "metadata": {
    "application/vnd.databricks.v1+cell": {
     "cellMetadata": {
      "byteLimit": 2048000,
      "rowLimit": 10000
     },
     "inputWidgets": {},
     "nuid": "21f31744-5591-476e-81bc-7b258ebcc500",
     "showTitle": false,
     "tableResultSettingsMap": {},
     "title": ""
    }
   },
   "outputs": [],
   "source": [
    "# Generate some summary statistics of the data\n",
    "df_pivot.describe()"
   ]
  },
  {
   "cell_type": "code",
   "execution_count": 0,
   "metadata": {
    "application/vnd.databricks.v1+cell": {
     "cellMetadata": {
      "byteLimit": 2048000,
      "rowLimit": 10000
     },
     "inputWidgets": {},
     "nuid": "af37f3cd-c277-418f-b56a-c07a04ff4965",
     "showTitle": false,
     "tableResultSettingsMap": {},
     "title": ""
    }
   },
   "outputs": [],
   "source": [
    "# Make histograms of all important variables to see their distributions\n",
    "df_pivot.hist(bins=50, figsize=(25,15))\n",
    "plt.show()"
   ]
  },
  {
   "cell_type": "markdown",
   "metadata": {
    "application/vnd.databricks.v1+cell": {
     "cellMetadata": {
      "byteLimit": 2048000,
      "rowLimit": 10000
     },
     "inputWidgets": {},
     "nuid": "e11ac98c-3255-4c6f-8709-528765caab00",
     "showTitle": false,
     "tableResultSettingsMap": {},
     "title": ""
    }
   },
   "source": [
    "As becomes clear from the distribution plot above, access to electricity is skewed towards 100, foreign direct investment contains some outliers and all other variables except population growth, GDP growth and government effectiveness are right skewed"
   ]
  },
  {
   "cell_type": "code",
   "execution_count": 0,
   "metadata": {
    "application/vnd.databricks.v1+cell": {
     "cellMetadata": {
      "byteLimit": 2048000,
      "rowLimit": 10000
     },
     "inputWidgets": {},
     "nuid": "9caf9380-22a5-4435-9493-bb82c2b0660c",
     "showTitle": false,
     "tableResultSettingsMap": {},
     "title": ""
    }
   },
   "outputs": [],
   "source": [
    "# Calculate the correlation matrix to signal potential multicollinearity\n",
    "plt.figure(figsize=(25, 15))\n",
    "correlation_matrix = df_pivot.corr()\n",
    "sns.heatmap(correlation_matrix, annot=True, cmap='coolwarm')\n",
    "plt.title('Correlation Matrix')\n",
    "plt.show()"
   ]
  },
  {
   "cell_type": "code",
   "execution_count": 0,
   "metadata": {
    "application/vnd.databricks.v1+cell": {
     "cellMetadata": {
      "byteLimit": 2048000,
      "rowLimit": 10000
     },
     "inputWidgets": {},
     "nuid": "f9f85529-b5f1-4440-81eb-c4dbff9b48ec",
     "showTitle": false,
     "tableResultSettingsMap": {},
     "title": ""
    }
   },
   "outputs": [],
   "source": [
    "# Control of Corruption and Government Effectiveness are multicollinear with a pairwise correlation of 0.9. Therefore, remove these variables from the data\n",
    "df_pivot.drop(['Government Effectiveness: Estimate', 'Control of Corruption: Estimate'], inplace=True, axis=1)"
   ]
  },
  {
   "cell_type": "code",
   "execution_count": 0,
   "metadata": {
    "application/vnd.databricks.v1+cell": {
     "cellMetadata": {
      "byteLimit": 2048000,
      "rowLimit": 10000
     },
     "inputWidgets": {},
     "nuid": "35975f5b-7eeb-4564-80ca-b90c4325b455",
     "showTitle": false,
     "tableResultSettingsMap": {},
     "title": ""
    }
   },
   "outputs": [],
   "source": [
    "# Check multicollinearity also with the VIF to identify non-linear and non-pairwise collinearity\n",
    "\n",
    "# Multicollinearity Test: VIF\n",
    "from statsmodels.stats.outliers_influence import variance_inflation_factor \n",
    "import pandas as pd\n",
    "\n",
    "# Ensure all columns are numeric and handle missing values\n",
    "X = df_pivot.drop(['IND_CONFLICT', 'Country_Name', 'Time'], axis=1).apply(pd.to_numeric, errors='coerce').fillna(0)\n",
    "\n",
    "# VIF dataframe \n",
    "vif_data = pd.DataFrame() \n",
    "vif_data[\"Feature\"] = X.columns \n",
    "  \n",
    "# calculating VIF for each feature \n",
    "vif_data[\"VIF\"] = [variance_inflation_factor(X.values, i) for i in range(len(X.columns))] \n",
    "\n",
    "print(vif_data)"
   ]
  },
  {
   "cell_type": "markdown",
   "metadata": {
    "application/vnd.databricks.v1+cell": {
     "cellMetadata": {
      "byteLimit": 2048000,
      "rowLimit": 10000
     },
     "inputWidgets": {},
     "nuid": "463b9c38-043c-47b0-a57a-90eddfebf42e",
     "showTitle": false,
     "tableResultSettingsMap": {},
     "title": ""
    }
   },
   "source": [
    "All VIF-scores are lower than 10, so there is no problematic multicollinearity present."
   ]
  },
  {
   "cell_type": "code",
   "execution_count": 0,
   "metadata": {
    "application/vnd.databricks.v1+cell": {
     "cellMetadata": {
      "byteLimit": 2048000,
      "rowLimit": 10000
     },
     "inputWidgets": {},
     "nuid": "9f74460a-658a-4908-85ce-bb53dabfbd96",
     "showTitle": false,
     "tableResultSettingsMap": {},
     "title": ""
    }
   },
   "outputs": [],
   "source": [
    "# Show the correlation of the features with the target to identify potentially strong features and weak features\n",
    "correlation_matrix = df_pivot.corr()\n",
    "correlation_matrix[\"IND_CONFLICT\"].sort_values(ascending=False)"
   ]
  },
  {
   "cell_type": "markdown",
   "metadata": {
    "application/vnd.databricks.v1+cell": {
     "cellMetadata": {
      "byteLimit": 2048000,
      "rowLimit": 10000
     },
     "inputWidgets": {},
     "nuid": "2b51d57f-5576-4061-9a95-d0d9508a056d",
     "showTitle": false,
     "tableResultSettingsMap": {},
     "title": ""
    }
   },
   "source": [
    "As is shown in the correlation matrix above, the individual variables seem to not have a strong correlation with the target variable IND_CONFLICT, except maybe merchandise trade and inflation. The correlation of political stability is understandingly strong, since the IND_CONFLICT target variable is based on this variable. Therefore, the Political Stability variable will not be included in the final model"
   ]
  },
  {
   "cell_type": "markdown",
   "metadata": {
    "application/vnd.databricks.v1+cell": {
     "cellMetadata": {
      "byteLimit": 2048000,
      "rowLimit": 10000
     },
     "inputWidgets": {},
     "nuid": "befd11c0-1ce6-4404-a44c-7fa7ab3f1d7b",
     "showTitle": false,
     "tableResultSettingsMap": {},
     "title": ""
    }
   },
   "source": [
    "#### Modelling"
   ]
  },
  {
   "cell_type": "markdown",
   "metadata": {
    "application/vnd.databricks.v1+cell": {
     "cellMetadata": {
      "byteLimit": 2048000,
      "rowLimit": 10000
     },
     "inputWidgets": {},
     "nuid": "70a7133f-7575-44da-9782-e9c809b99d5e",
     "showTitle": false,
     "tableResultSettingsMap": {},
     "title": ""
    }
   },
   "source": [
    "While a logistic regression could be used, since the target variable IND_CONFLICT is binary, opt for a random forest because of class imbalance (the number of conflicts is relatively small compared to the number of country-year pairs) and better handling of features with skewed distributions."
   ]
  },
  {
   "cell_type": "code",
   "execution_count": 0,
   "metadata": {
    "application/vnd.databricks.v1+cell": {
     "cellMetadata": {
      "byteLimit": 2048000,
      "rowLimit": 10000
     },
     "inputWidgets": {},
     "nuid": "63af4bf5-480b-44f2-866c-09d13880a75b",
     "showTitle": false,
     "tableResultSettingsMap": {},
     "title": ""
    }
   },
   "outputs": [],
   "source": [
    "# Define the feature set and the target variable\n",
    "X = df_pivot.drop(['IND_CONFLICT', 'Country_Name', 'Time', 'Political Stability and Absence of Violence/Terrorism: Estimate'], axis=1).apply(pd.to_numeric, errors='coerce')\n",
    "y = df_pivot['IND_CONFLICT']\n"
   ]
  },
  {
   "cell_type": "code",
   "execution_count": 0,
   "metadata": {
    "application/vnd.databricks.v1+cell": {
     "cellMetadata": {
      "byteLimit": 2048000,
      "rowLimit": 10000
     },
     "inputWidgets": {},
     "nuid": "ef43d658-c1a7-478c-8bfe-32e552d4d667",
     "showTitle": false,
     "tableResultSettingsMap": {},
     "title": ""
    }
   },
   "outputs": [],
   "source": [
    "# Impute missing values in the feature set by linear inter- and extrapolation\n",
    "X = X.interpolate(method='linear', limit_direction='both')"
   ]
  },
  {
   "cell_type": "code",
   "execution_count": 0,
   "metadata": {
    "application/vnd.databricks.v1+cell": {
     "cellMetadata": {
      "byteLimit": 2048000,
      "rowLimit": 10000
     },
     "inputWidgets": {},
     "nuid": "22be5aa5-1747-4e3d-ab3a-d00c0a94eada",
     "showTitle": false,
     "tableResultSettingsMap": {},
     "title": ""
    }
   },
   "outputs": [],
   "source": [
    "# Confirm that the feature set does not contain NaN values anymore\n",
    "display(X.isna().sum())"
   ]
  },
  {
   "cell_type": "code",
   "execution_count": 0,
   "metadata": {
    "application/vnd.databricks.v1+cell": {
     "cellMetadata": {
      "byteLimit": 2048000,
      "rowLimit": 10000
     },
     "inputWidgets": {},
     "nuid": "85355451-ce56-41a5-bc87-3f672734ea57",
     "showTitle": false,
     "tableResultSettingsMap": {},
     "title": ""
    }
   },
   "outputs": [],
   "source": [
    "# Perform a train-test split on the data\n",
    "X_train, X_test, y_train, y_test = train_test_split(X, y, test_size=0.25, random_state=42)"
   ]
  },
  {
   "cell_type": "code",
   "execution_count": 0,
   "metadata": {
    "application/vnd.databricks.v1+cell": {
     "cellMetadata": {
      "byteLimit": 2048000,
      "rowLimit": 10000
     },
     "inputWidgets": {},
     "nuid": "7f1f6863-d0a3-47c8-a381-fe3d1763411f",
     "showTitle": false,
     "tableResultSettingsMap": {},
     "title": ""
    }
   },
   "outputs": [],
   "source": [
    "# Initialize the random forest classifier. Set max_depth to 5 to avoid overfitting\n",
    "model_rf = RandomForestClassifier(max_depth=5, random_state=42)\n",
    "model_rf.fit(X_train, y_train)"
   ]
  },
  {
   "cell_type": "code",
   "execution_count": 0,
   "metadata": {
    "application/vnd.databricks.v1+cell": {
     "cellMetadata": {
      "byteLimit": 2048000,
      "rowLimit": 10000
     },
     "inputWidgets": {},
     "nuid": "907528ed-7c5b-454c-b5df-0fa97421ebde",
     "showTitle": false,
     "tableResultSettingsMap": {},
     "title": ""
    }
   },
   "outputs": [],
   "source": [
    "# Predict the target based on the test data of the feature set and print the classification report\n",
    "y_pred = model_rf.predict(X_test)\n",
    "print(classification_report(y_test, y_pred))"
   ]
  },
  {
   "cell_type": "markdown",
   "metadata": {
    "application/vnd.databricks.v1+cell": {
     "cellMetadata": {},
     "inputWidgets": {},
     "nuid": "de0b9cfd-c280-404b-b20b-8537efb360d8",
     "showTitle": false,
     "tableResultSettingsMap": {},
     "title": ""
    }
   },
   "source": [
    "The precision, recall and f1-score are relatively high for the 0-label and quite a bit lower for the 1-label, thus showing potential class imbalance and a difficulty to correctly predict a conflict in a given year and within a given country."
   ]
  },
  {
   "cell_type": "code",
   "execution_count": 0,
   "metadata": {
    "application/vnd.databricks.v1+cell": {
     "cellMetadata": {
      "byteLimit": 2048000,
      "rowLimit": 10000
     },
     "inputWidgets": {},
     "nuid": "87c635a8-66a3-4366-a423-7264bac910ea",
     "showTitle": false,
     "tableResultSettingsMap": {},
     "title": ""
    }
   },
   "outputs": [],
   "source": [
    "# Print the confusion matrix to see the true and false positives and negatives\n",
    "confusion = confusion_matrix(y_test, y_pred)\n",
    "ConfusionMatrixDisplay(confusion_matrix=confusion).plot()"
   ]
  },
  {
   "cell_type": "markdown",
   "metadata": {
    "application/vnd.databricks.v1+cell": {
     "cellMetadata": {
      "byteLimit": 2048000,
      "rowLimit": 10000
     },
     "inputWidgets": {},
     "nuid": "98df1877-b0e9-4766-bf99-892527c8850f",
     "showTitle": false,
     "tableResultSettingsMap": {},
     "title": ""
    }
   },
   "source": [
    "Confusion matrix showsm that 32 true unstable situations were not picked up by the model, which is suboptimal. Also, 11 stable situations were deemed unstable by the model, which is equally suboptimal. Luckily, we still find most cases on the main diagonal, however."
   ]
  },
  {
   "cell_type": "code",
   "execution_count": 0,
   "metadata": {
    "application/vnd.databricks.v1+cell": {
     "cellMetadata": {
      "byteLimit": 2048000,
      "rowLimit": 10000
     },
     "inputWidgets": {},
     "nuid": "9bc235a8-a18e-4029-aedd-62cef3b92e8a",
     "showTitle": false,
     "tableResultSettingsMap": {},
     "title": ""
    }
   },
   "outputs": [],
   "source": [
    "# Calculate the evaluation metrics (precision, recall, accuracy and F1-score)\n",
    "a = accuracy_score(y_test, y_pred)\n",
    "r = recall_score(y_test, y_pred)\n",
    "p = precision_score(y_test, y_pred)\n",
    "f1 = f1_score(y_test, y_pred)\n",
    "\n",
    "print(\"Accuracy of the model\", a)\n",
    "print(\"Precision of the model\", p)\n",
    "print(\"Recall of the model\", r)\n",
    "print('F1-score of the model', f1)"
   ]
  },
  {
   "cell_type": "markdown",
   "metadata": {
    "application/vnd.databricks.v1+cell": {
     "cellMetadata": {},
     "inputWidgets": {},
     "nuid": "aef503de-2331-4529-b4af-c61b335df33b",
     "showTitle": false,
     "tableResultSettingsMap": {},
     "title": ""
    }
   },
   "source": [
    "An accuracy of 0.88 is not optimal, but also not bad, although the costs of a false negative (not predicting a conflict when there is one) and a false positive (predicting a conflict when there is none) are quite costly. One could say that avoiding false negatives is even more costly, so recall is the most important measure here. At 0.71 rounded to two decimals, this measure does not show a particularly strong model. When looking at the F1-score, which takes into account class imbalance, recall ánd precision, a score of 0.78 is intermediate."
   ]
  },
  {
   "cell_type": "code",
   "execution_count": 0,
   "metadata": {
    "application/vnd.databricks.v1+cell": {
     "cellMetadata": {
      "byteLimit": 2048000,
      "rowLimit": 10000
     },
     "inputWidgets": {},
     "nuid": "18761f8b-6be5-4fbf-920a-973c5d0dda81",
     "showTitle": false,
     "tableResultSettingsMap": {},
     "title": ""
    }
   },
   "outputs": [],
   "source": [
    "# Create the SHAP explainer for the Random Forest model\n",
    "explainer = shap.TreeExplainer(model_rf)\n",
    "\n",
    "# Calculate SHAP values for the test set\n",
    "shap_values = explainer.shap_values(X_test)"
   ]
  },
  {
   "cell_type": "code",
   "execution_count": 0,
   "metadata": {
    "application/vnd.databricks.v1+cell": {
     "cellMetadata": {
      "byteLimit": 2048000,
      "rowLimit": 10000
     },
     "inputWidgets": {},
     "nuid": "f1e49183-b38b-4d14-a196-c36e7f3a5278",
     "showTitle": false,
     "tableResultSettingsMap": {},
     "title": ""
    }
   },
   "outputs": [],
   "source": [
    "# Generate a SHAP summary plot with larger size for better visibility\n",
    "shap.summary_plot(shap_values[0:, 0:, 0], X_test, plot_size=(12, 8))"
   ]
  },
  {
   "cell_type": "markdown",
   "metadata": {
    "application/vnd.databricks.v1+cell": {
     "cellMetadata": {},
     "inputWidgets": {},
     "nuid": "42b761cf-ec2e-4a7f-b329-134b35bdfe64",
     "showTitle": false,
     "tableResultSettingsMap": {},
     "title": ""
    }
   },
   "source": [
    "The feature importance plot shows that the merchandise trade and forest area variables are the features with the highest feature importance. The more merchandise trade or forest area, the higher the probability of a conflict, which is in accordance with prior research (Muchlinski et al., 2016). Interestingly, military expediture or armed personnel is not the most valuable predictor of conflict situations!"
   ]
  }
 ],
 "metadata": {
  "application/vnd.databricks.v1+notebook": {
   "computePreferences": null,
   "dashboards": [],
   "environmentMetadata": {
    "base_environment": "",
    "environment_version": "2"
   },
   "inputWidgetPreferences": null,
   "language": "python",
   "notebookMetadata": {
    "pythonIndentUnit": 4
   },
   "notebookName": "analysis",
   "widgets": {}
  },
  "language_info": {
   "name": "python"
  }
 },
 "nbformat": 4,
 "nbformat_minor": 0
}
